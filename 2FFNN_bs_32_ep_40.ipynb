{
  "cells": [
    {
      "cell_type": "markdown",
      "metadata": {
        "id": "view-in-github",
        "colab_type": "text"
      },
      "source": [
        "<a href=\"https://colab.research.google.com/github/novtryrezki/CapstoneProject/blob/master/2FFNN_bs_32_ep_40.ipynb\" target=\"_parent\"><img src=\"https://colab.research.google.com/assets/colab-badge.svg\" alt=\"Open In Colab\"/></a>"
      ]
    },
    {
      "cell_type": "code",
      "execution_count": 1,
      "metadata": {
        "id": "Gj0QELQHjUVZ"
      },
      "outputs": [],
      "source": [
        "import os\n",
        "import zipfile\n",
        "import random\n",
        "import shutil\n",
        "import numpy as np\n",
        "import tensorflow as tf\n",
        "import pandas as pd\n",
        "from google.colab import drive\n",
        "from sklearn.model_selection import train_test_split"
      ]
    },
    {
      "cell_type": "code",
      "execution_count": 2,
      "metadata": {
        "colab": {
          "base_uri": "https://localhost:8080/"
        },
        "id": "HXtZwYwdjXH4",
        "outputId": "51c2f522-75b6-4807-9ddf-477140096466"
      },
      "outputs": [
        {
          "output_type": "stream",
          "name": "stdout",
          "text": [
            "Mounted at /content/drive\n"
          ]
        }
      ],
      "source": [
        "# Melakukan mount pada Google Drive\n",
        "drive.mount('/content/drive')\n",
        "\n",
        "# Menentukan path file ZIP di Google Drive\n",
        "zip_path = '/content/drive/MyDrive/images.zip'\n",
        "\n",
        "# Membuat objek zip_ref\n",
        "zip_ref = zipfile.ZipFile(zip_path, 'r')\n",
        "\n",
        "# Mengekstrak file ZIP\n",
        "extract_path ='/content/images'\n",
        "zip_ref.extractall(extract_path)\n",
        "\n",
        "# Tutup objek zip_ref setelah selesai\n",
        "zip_ref.close()"
      ]
    },
    {
      "cell_type": "code",
      "execution_count": 3,
      "metadata": {
        "colab": {
          "base_uri": "https://localhost:8080/"
        },
        "id": "P9SpMwZxCMpv",
        "outputId": "b142f39a-257d-4a1f-a5e9-b27ffa2e11f7"
      },
      "outputs": [
        {
          "output_type": "stream",
          "name": "stdout",
          "text": [
            "Daftar Angka pada Dataset Train yaitu :  ['angka 0', 'angka 1', 'angka 2', 'angka 3', 'angka 4', 'angka 5', 'angka 6', 'angka 7', 'angka 8', 'angka 9']\n",
            "Daftar Angka pada Dataset Test yaitu :  ['angka 0', 'angka 1', 'angka 2', 'angka 3', 'angka 4', 'angka 5', 'angka 6', 'angka 7', 'angka 8', 'angka 9']\n"
          ]
        }
      ],
      "source": [
        "# Mendefinisikan path direktori dataset\n",
        "dataset_dir = os.path.join(extract_path, 'images')\n",
        "train_dir = os.path.join(dataset_dir, 'train')\n",
        "test_dir = os.path.join(dataset_dir, 'test')\n",
        "list_train = sorted(os.listdir(train_dir))\n",
        "list_test = sorted(os.listdir(test_dir))\n",
        "\n",
        "print(\"Daftar Angka pada Dataset Train yaitu : \", list_train)\n",
        "print(\"Daftar Angka pada Dataset Test yaitu : \", list_test)"
      ]
    },
    {
      "cell_type": "code",
      "execution_count": 4,
      "metadata": {
        "colab": {
          "base_uri": "https://localhost:8080/"
        },
        "id": "JycQg0kGCHHe",
        "outputId": "8107a9f9-5aa9-40c3-dfd2-eb33d9ee27b1"
      },
      "outputs": [
        {
          "output_type": "stream",
          "name": "stdout",
          "text": [
            "Jumlah gambar di Dataset Train: 1763\n",
            "Jumlah gambar di Dataset Test: 445\n"
          ]
        }
      ],
      "source": [
        "def count_images(directory):\n",
        "    return sum(1 for file in os.listdir(directory) if file.endswith(('.jpg', '.jpeg', '.png', '.gif')))\n",
        "\n",
        "# Menghitung jumlah gambar di data train\n",
        "train_image_count = sum(count_images(os.path.join(train_dir, angka)) for angka in list_train)\n",
        "\n",
        "# Menghitung jumlah gambar di data test\n",
        "test_image_count = sum(count_images(os.path.join(test_dir, angka)) for angka in list_test)\n",
        "\n",
        "print(f\"Jumlah gambar di Dataset Train: {train_image_count}\")\n",
        "print(f\"Jumlah gambar di Dataset Test: {test_image_count}\")"
      ]
    },
    {
      "cell_type": "markdown",
      "metadata": {
        "id": "Cs-YBymEElj8"
      },
      "source": [
        "# Preprocessing"
      ]
    },
    {
      "cell_type": "code",
      "execution_count": 5,
      "metadata": {
        "id": "j-iPjxpXF_bf"
      },
      "outputs": [],
      "source": [
        "import cv2\n",
        "\n",
        "def resize_images(directory, target_resolution):\n",
        "    for angka in os.listdir(directory):\n",
        "        angka_dir = os.path.join(directory, angka)\n",
        "        for file_name in os.listdir(angka_dir):\n",
        "            file_path = os.path.join(angka_dir, file_name)\n",
        "            img = cv2.imread(file_path)\n",
        "            resized_img = cv2.resize(img, (target_resolution, target_resolution))\n",
        "            cv2.imwrite(file_path, resized_img)\n",
        "\n",
        "target_resolution = 32\n",
        "resize_images(train_dir, target_resolution)\n",
        "resize_images(test_dir, target_resolution)"
      ]
    },
    {
      "cell_type": "code",
      "execution_count": 6,
      "metadata": {
        "colab": {
          "base_uri": "https://localhost:8080/"
        },
        "id": "MrR6ROkiF9Uj",
        "outputId": "4c9af22c-5940-4193-e9dc-3b99548aa479"
      },
      "outputs": [
        {
          "output_type": "stream",
          "name": "stdout",
          "text": [
            "Found 1763 images belonging to 10 classes.\n",
            "Found 445 images belonging to 10 classes.\n"
          ]
        }
      ],
      "source": [
        "from tensorflow.keras.preprocessing.image import ImageDataGenerator\n",
        "\n",
        "# Membuat generator data dengan augmentasi\n",
        "image_size = (32, 32)\n",
        "batch_size = 32\n",
        "\n",
        "train_datagen = ImageDataGenerator(\n",
        "    rescale = 1./255,\n",
        "    rotation_range = 90,\n",
        "    width_shift_range = 0.2,\n",
        "    height_shift_range = 0.2,\n",
        "    zoom_range = 0.2,\n",
        ")\n",
        "\n",
        "test_datagen = ImageDataGenerator(\n",
        "    rescale=1./255,\n",
        ")\n",
        "\n",
        "train_generator = train_datagen.flow_from_directory(\n",
        "    train_dir,\n",
        "    target_size=image_size,\n",
        "    batch_size=batch_size,\n",
        "    class_mode='categorical',\n",
        "    color_mode='grayscale'\n",
        ")\n",
        "\n",
        "test_generator = test_datagen.flow_from_directory(\n",
        "    test_dir,\n",
        "    target_size=image_size,\n",
        "    batch_size=batch_size,\n",
        "    class_mode='categorical',\n",
        "    color_mode='grayscale'\n",
        ")"
      ]
    },
    {
      "cell_type": "markdown",
      "metadata": {
        "id": "gPqE7ywQJ01c"
      },
      "source": [
        "# Membuat Model FFNN"
      ]
    },
    {
      "cell_type": "code",
      "execution_count": 7,
      "metadata": {
        "id": "SvNzs3QB71R6"
      },
      "outputs": [],
      "source": [
        "from tensorflow.keras.models import Sequential\n",
        "from tensorflow.keras.layers import Flatten, Dense\n",
        "import math\n",
        "\n",
        "img_size = 32*32*1\n",
        "\n",
        "# Perhitungan jumlah neuron pada lapisan tersembunyi\n",
        "r1 = (img_size/10) ** (1/2)\n",
        "r2 = (img_size/10) ** (1/3)\n",
        "\n",
        "hidden_neurons1 = 10 * r1**(2)\n",
        "hidden_neurons2 = 10 * r2**(1)\n",
        "\n",
        "model2f = Sequential()\n",
        "model2f.add(Flatten(input_shape=(32, 32, 1)))\n",
        "model2f.add(Dense(hidden_neurons1, activation='relu'))\n",
        "model2f.add(Dense(hidden_neurons2, activation='relu'))\n",
        "model2f.add(Dense(10, activation='softmax'))\n",
        "\n",
        "model2f.compile(optimizer='SGD', loss='categorical_crossentropy', metrics=['accuracy'])"
      ]
    },
    {
      "cell_type": "code",
      "execution_count": 8,
      "metadata": {
        "id": "RfHd4NJznjOh",
        "colab": {
          "base_uri": "https://localhost:8080/"
        },
        "outputId": "60a2b9a8-0a10-4a2c-9054-4455fbd41554"
      },
      "outputs": [
        {
          "output_type": "stream",
          "name": "stdout",
          "text": [
            "Model: \"sequential\"\n",
            "_________________________________________________________________\n",
            " Layer (type)                Output Shape              Param #   \n",
            "=================================================================\n",
            " flatten (Flatten)           (None, 1024)              0         \n",
            "                                                                 \n",
            " dense (Dense)               (None, 1024)              1049600   \n",
            "                                                                 \n",
            " dense_1 (Dense)             (None, 46)                47150     \n",
            "                                                                 \n",
            " dense_2 (Dense)             (None, 10)                470       \n",
            "                                                                 \n",
            "=================================================================\n",
            "Total params: 1097220 (4.19 MB)\n",
            "Trainable params: 1097220 (4.19 MB)\n",
            "Non-trainable params: 0 (0.00 Byte)\n",
            "_________________________________________________________________\n"
          ]
        }
      ],
      "source": [
        "model2f.summary()"
      ]
    },
    {
      "cell_type": "code",
      "execution_count": 9,
      "metadata": {
        "id": "I_Klj8ReYASB",
        "colab": {
          "base_uri": "https://localhost:8080/"
        },
        "outputId": "ef838641-3af5-4e09-e8cd-a503da103bf1"
      },
      "outputs": [
        {
          "output_type": "stream",
          "name": "stdout",
          "text": [
            "Epoch 1/40\n",
            "56/56 [==============================] - 2s 31ms/step - loss: 2.0671 - accuracy: 0.2808\n",
            "Epoch 2/40\n",
            "56/56 [==============================] - 2s 30ms/step - loss: 2.0180 - accuracy: 0.2984\n",
            "Epoch 3/40\n",
            "56/56 [==============================] - 2s 38ms/step - loss: 2.0026 - accuracy: 0.3199\n",
            "Epoch 4/40\n",
            "56/56 [==============================] - 2s 40ms/step - loss: 1.9977 - accuracy: 0.3313\n",
            "Epoch 5/40\n",
            "56/56 [==============================] - 2s 30ms/step - loss: 1.9779 - accuracy: 0.3432\n",
            "Epoch 6/40\n",
            "56/56 [==============================] - 2s 30ms/step - loss: 1.9669 - accuracy: 0.3556\n",
            "Epoch 7/40\n",
            "56/56 [==============================] - 2s 37ms/step - loss: 1.9494 - accuracy: 0.3568\n",
            "Epoch 8/40\n",
            "56/56 [==============================] - 2s 30ms/step - loss: 1.9409 - accuracy: 0.3607\n",
            "Epoch 9/40\n",
            "56/56 [==============================] - 2s 43ms/step - loss: 1.9292 - accuracy: 0.3517\n",
            "Epoch 10/40\n",
            "56/56 [==============================] - 2s 37ms/step - loss: 1.9282 - accuracy: 0.3596\n",
            "Epoch 11/40\n",
            "56/56 [==============================] - 2s 31ms/step - loss: 1.9360 - accuracy: 0.3494\n",
            "Epoch 12/40\n",
            "56/56 [==============================] - 2s 31ms/step - loss: 1.9013 - accuracy: 0.3693\n",
            "Epoch 13/40\n",
            "56/56 [==============================] - 2s 30ms/step - loss: 1.9033 - accuracy: 0.3607\n",
            "Epoch 14/40\n",
            "56/56 [==============================] - 2s 31ms/step - loss: 1.9092 - accuracy: 0.3698\n",
            "Epoch 15/40\n",
            "56/56 [==============================] - 2s 34ms/step - loss: 1.9073 - accuracy: 0.3619\n",
            "Epoch 16/40\n",
            "56/56 [==============================] - 2s 43ms/step - loss: 1.8946 - accuracy: 0.3687\n",
            "Epoch 17/40\n",
            "56/56 [==============================] - 2s 33ms/step - loss: 1.9171 - accuracy: 0.3511\n",
            "Epoch 18/40\n",
            "56/56 [==============================] - 2s 30ms/step - loss: 1.8934 - accuracy: 0.3721\n",
            "Epoch 19/40\n",
            "56/56 [==============================] - 2s 30ms/step - loss: 1.8624 - accuracy: 0.3693\n",
            "Epoch 20/40\n",
            "56/56 [==============================] - 2s 30ms/step - loss: 1.8728 - accuracy: 0.3710\n",
            "Epoch 21/40\n",
            "56/56 [==============================] - 2s 30ms/step - loss: 1.8729 - accuracy: 0.3721\n",
            "Epoch 22/40\n",
            "56/56 [==============================] - 2s 38ms/step - loss: 1.8581 - accuracy: 0.3749\n",
            "Epoch 23/40\n",
            "56/56 [==============================] - 3s 45ms/step - loss: 1.8567 - accuracy: 0.3834\n",
            "Epoch 24/40\n",
            "56/56 [==============================] - 2s 30ms/step - loss: 1.8505 - accuracy: 0.3744\n",
            "Epoch 25/40\n",
            "56/56 [==============================] - 2s 30ms/step - loss: 1.8604 - accuracy: 0.3710\n",
            "Epoch 26/40\n",
            "56/56 [==============================] - 2s 30ms/step - loss: 1.8572 - accuracy: 0.3800\n",
            "Epoch 27/40\n",
            "56/56 [==============================] - 2s 30ms/step - loss: 1.8434 - accuracy: 0.3738\n",
            "Epoch 28/40\n",
            "56/56 [==============================] - 2s 39ms/step - loss: 1.8492 - accuracy: 0.3755\n",
            "Epoch 29/40\n",
            "56/56 [==============================] - 2s 38ms/step - loss: 1.8360 - accuracy: 0.3789\n",
            "Epoch 30/40\n",
            "56/56 [==============================] - 2s 30ms/step - loss: 1.8324 - accuracy: 0.3800\n",
            "Epoch 31/40\n",
            "56/56 [==============================] - 2s 30ms/step - loss: 1.8235 - accuracy: 0.3834\n",
            "Epoch 32/40\n",
            "56/56 [==============================] - 2s 37ms/step - loss: 1.8344 - accuracy: 0.3834\n",
            "Epoch 33/40\n",
            "56/56 [==============================] - 2s 39ms/step - loss: 1.8243 - accuracy: 0.3914\n",
            "Epoch 34/40\n",
            "56/56 [==============================] - 2s 42ms/step - loss: 1.8068 - accuracy: 0.4016\n",
            "Epoch 35/40\n",
            "56/56 [==============================] - 2s 35ms/step - loss: 1.8135 - accuracy: 0.3925\n",
            "Epoch 36/40\n",
            "56/56 [==============================] - 2s 30ms/step - loss: 1.8095 - accuracy: 0.3959\n",
            "Epoch 37/40\n",
            "56/56 [==============================] - 2s 30ms/step - loss: 1.8030 - accuracy: 0.3919\n",
            "Epoch 38/40\n",
            "56/56 [==============================] - 2s 30ms/step - loss: 1.7890 - accuracy: 0.3908\n",
            "Epoch 39/40\n",
            "56/56 [==============================] - 2s 30ms/step - loss: 1.7977 - accuracy: 0.3982\n",
            "Epoch 40/40\n",
            "56/56 [==============================] - 2s 41ms/step - loss: 1.7905 - accuracy: 0.4050\n"
          ]
        }
      ],
      "source": [
        "history = model2f.fit(train_generator, epochs=40, verbose = 1)"
      ]
    },
    {
      "cell_type": "markdown",
      "metadata": {
        "id": "6VOcIXg0IvCs"
      },
      "source": [
        "#Matriks Konfusi"
      ]
    },
    {
      "cell_type": "code",
      "execution_count": 18,
      "metadata": {
        "id": "Lz5lA0bDIxJg",
        "colab": {
          "base_uri": "https://localhost:8080/",
          "height": 617
        },
        "outputId": "67cfc636-c510-4b39-b6e2-130e93b9647c"
      },
      "outputs": [
        {
          "output_type": "stream",
          "name": "stdout",
          "text": [
            "14/14 [==============================] - 0s 15ms/step\n"
          ]
        },
        {
          "output_type": "display_data",
          "data": {
            "text/plain": [
              "<Figure size 800x600 with 2 Axes>"
            ],
            "image/png": "[encoded data removed]"
          },
          "metadata": {}
        }
      ],
      "source": [
        "from sklearn.metrics import confusion_matrix, classification_report\n",
        "import seaborn as sns\n",
        "import matplotlib.pyplot as plt\n",
        "\n",
        "# Fungsi untuk mendapatkan prediksi model dan label sebenarnya\n",
        "def get_predictions_and_labels(model, data_generator):\n",
        "    predictions = model.predict(data_generator)\n",
        "    true_classes = data_generator.classes\n",
        "    return predictions, true_classes\n",
        "\n",
        "# Mendapatkan prediksi dan label sebenarnya untuk data uji\n",
        "y_pred_prob, y_true = get_predictions_and_labels(model2f, test_generator)\n",
        "y_pred = np.argmax(y_pred_prob, axis=1)\n",
        "\n",
        "# Membuat matriks konfusi\n",
        "cf_matrix = confusion_matrix(y_true, y_pred)\n",
        "\n",
        "# Membuat visualisasi matriks konfusi\n",
        "fig, ax = plt.subplots(figsize=(8, 6))\n",
        "sns.heatmap(cf_matrix, annot=True, fmt='g', cmap='Blues', ax=ax)\n",
        "\n",
        "# Menetapkan label dan judul\n",
        "ax.set_title('Confusion Matrix with labels')\n",
        "ax.set_xlabel('Predicted Values')\n",
        "ax.set_ylabel('Actual Values')\n",
        "\n",
        "class_labels = list(test_generator.class_indices.keys())\n",
        "\n",
        "# Menetapkan label pada sumbu x dan y sesuai dengan jenis kelas\n",
        "ax.xaxis.set_ticklabels(class_labels, rotation=45)\n",
        "ax.yaxis.set_ticklabels(class_labels, rotation=45)\n",
        "\n",
        "# Menampilkan visualisasi Matriks Konfusi\n",
        "plt.show()"
      ]
    },
    {
      "cell_type": "code",
      "execution_count": 19,
      "metadata": {
        "id": "S7iwBJlGZEUM",
        "colab": {
          "base_uri": "https://localhost:8080/"
        },
        "outputId": "d5c72328-20c6-41c5-cef2-5278bd8dfc6f"
      },
      "outputs": [
        {
          "output_type": "stream",
          "name": "stdout",
          "text": [
            "AUC ROC Score: 0.5092749261107501\n",
            "Accuracy: 0.27415730337078653\n"
          ]
        }
      ],
      "source": [
        "from sklearn.metrics import roc_auc_score\n",
        "from sklearn.metrics import accuracy_score\n",
        "\n",
        "auc_roc_score = roc_auc_score(y_true, y_pred_prob, multi_class='ovr')\n",
        "print(f\"AUC ROC Score: {auc_roc_score}\")\n",
        "accuracy = accuracy_score(y_true, y_pred)\n",
        "print(f\"Accuracy: {accuracy}\")"
      ]
    }
  ],
  "metadata": {
    "colab": {
      "provenance": [],
      "include_colab_link": true
    },
    "kernelspec": {
      "display_name": "Python 3",
      "name": "python3"
    },
    "language_info": {
      "name": "python"
    }
  },
  "nbformat": 4,
  "nbformat_minor": 0
}