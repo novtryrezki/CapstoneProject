{
  "cells": [
    {
      "cell_type": "markdown",
      "source": [
        "# Import Library\n",
        "\n",
        "*   **'import os'** : Mengimpor modul os untuk berinteraksi dengan sistem operasi.\n",
        "*   **'import zipfile'** : Mengimpor modul zipfile untuk mengoperasikan file ZIP.\n",
        "*   **'import random'** : Mengimpor modul random untuk menghasilkan angka acak.\n",
        "*   **'import shutil'** : Mengimpor modul shutil untuk melakukan operasi file dan direktori.\n",
        "*   **'import matplotlib.pyplot as plt'** : Mengimpor modul matplotlib.pyplot sebagai plt, digunakan untuk membuat visualisasi grafik.\n",
        "*   **'import numpy as np'** : Mengimpor modul numpy sebagai np, digunakan untuk operasi array numerik.\n",
        "*   **'import tensorflow as tf'** : Mengimpor modul tensorflow sebagai tf, digunakan untuk membangun dan melatih model machine learning.\n",
        "*   **'import pandas as pd'** : Mengimpor modul pandas sebagai pd, digunakan untuk manipulasi dan analisis data.\n",
        "\n",
        "\n",
        "\n"
      ],
      "metadata": {
        "id": "AuFCMUHNnQfm"
      }
    },
    {
      "cell_type": "code",
      "source": [
        "import os\n",
        "import zipfile\n",
        "import random\n",
        "import shutil\n",
        "import matplotlib.pyplot as plt\n",
        "import numpy as np\n",
        "import tensorflow as tf\n",
        "import pandas as pd\n",
        "\n",
        "from tensorflow.keras.applications import MobileNetV2\n",
        "from tensorflow.keras.layers import Input, Conv2D, GlobalAveragePooling2D, Concatenate, Flatten, Dense, Dropout\n",
        "from tensorflow.keras.models import Model\n",
        "from tensorflow.keras.preprocessing.image import ImageDataGenerator\n",
        "from tensorflow.keras import optimizers\n",
        "from tensorflow.keras.callbacks import ModelCheckpoint\n",
        "\n",
        "from google.colab import drive\n",
        "from sklearn.model_selection import train_test_split\n",
        "from sklearn.metrics import accuracy_score, precision_score, recall_score, f1_score\n",
        "from sklearn.metrics import confusion_matrix\n"
      ],
      "metadata": {
        "id": "cjy8yVB2nSqt"
      },
      "execution_count": 1,
      "outputs": []
    },
    {
      "cell_type": "markdown",
      "source": [
        "# Mount Google Drive dan Load Data\n",
        "\n",
        "Melakukan mount Google Drive pada Google Colab untuk mengakses dan menggunakan file dan folder yang ada di Google Drive. Hal ini memberi fleksibilitas dalam berbagi data, mengimpor dan mengekspor file, serta melakukan pengolahan data yang melibatkan file di Google Drive. Proses mount Google Drive melibatkan autentikasi pengguna dan pemberian izin akses ke Google Drive.\n",
        "\n",
        "\n",
        "\n"
      ],
      "metadata": {
        "id": "Y18aDNX2rjAP"
      }
    },
    {
      "cell_type": "code",
      "source": [
        "# Melakukan mount pada Google Drive\n",
        "drive.mount('/content/drive')\n",
        "\n",
        "# Membuat direktori jika belum ada\n",
        "os.makedirs('/content/images', exist_ok=True)\n",
        "\n",
        "# Menentukan path file ZIP di Google Drive\n",
        "zip_path = '/content/drive/MyDrive/images.zip'\n",
        "\n",
        "# Membuat objek zip_ref\n",
        "zip_ref = zipfile.ZipFile(zip_path, 'r')\n",
        "\n",
        "# Mengekstrak file ZIP\n",
        "extract_path = '/content/images'\n",
        "zip_ref.extractall(extract_path)\n",
        "\n",
        "# Tutup objek zip_ref setelah selesai\n",
        "zip_ref.close()"
      ],
      "metadata": {
        "id": "HqKyXjl36cTF",
        "colab": {
          "base_uri": "https://localhost:8080/"
        },
        "outputId": "ad801f70-dc97-40eb-aa26-7b7df06b1d89"
      },
      "execution_count": 2,
      "outputs": [
        {
          "output_type": "stream",
          "name": "stdout",
          "text": [
            "Mounted at /content/drive\n"
          ]
        }
      ]
    },
    {
      "cell_type": "code",
      "execution_count": 3,
      "metadata": {
        "id": "P4-P1dg9cDa8"
      },
      "outputs": [],
      "source": [
        "# Mendefinisikan path direktori dataset\n",
        "dataset_dir = os.path.join(extract_path, 'images')\n",
        "train_dir = os.path.join(dataset_dir, 'train')\n",
        "val_dir = os.path.join(dataset_dir, 'val')\n",
        "test_dir = os.path.join(dataset_dir, 'test')"
      ]
    },
    {
      "cell_type": "code",
      "execution_count": 4,
      "metadata": {
        "id": "Yd_2Ae1IoNWD",
        "colab": {
          "base_uri": "https://localhost:8080/"
        },
        "outputId": "292ad0aa-ac10-41d9-afad-f4a0d80184c3"
      },
      "outputs": [
        {
          "output_type": "stream",
          "name": "stdout",
          "text": [
            "['elephant', 'chicken', 'pig', 'tiger', 'monkey', 'snake', 'swan', 'horse', 'duck', 'dragonfly', 'zebra', 'goat', 'lion', 'squirrel', 'rabbit', 'bee', 'cow', 'cat', 'butterfly', 'dog']\n"
          ]
        }
      ],
      "source": [
        "list_hewan = os.listdir(dataset_dir)\n",
        "\n",
        "# Mendefinisikan proporsi pembagian subset data\n",
        "train_ratio = 0.8\n",
        "val_ratio = 0.1\n",
        "test_ratio = 0.1\n",
        "\n",
        "print(list_hewan)"
      ]
    },
    {
      "cell_type": "markdown",
      "source": [
        "# Split Data \n",
        "Membagi data ke Dalam Testing, Training dan Validation set secara random dengan proporsi train : val : test = 8 : 1 : 1 dan memindahkan file gambar ke direktori yang sesuai dengan subset yang tepat."
      ],
      "metadata": {
        "id": "6U3Ac314xG3_"
      }
    },
    {
      "cell_type": "code",
      "execution_count": 5,
      "metadata": {
        "id": "X8YFlbXFoePI"
      },
      "outputs": [],
      "source": [
        "# Memilih secara acak file gambar untuk setiap kelas dan membaginya menjadi subset\n",
        "for hewan in list_hewan:\n",
        "    class_dir = os.path.join(dataset_dir, hewan)\n",
        "    image_files = os.listdir(class_dir)\n",
        "    random.shuffle(image_files)\n",
        "    \n",
        "    train_files, test_val_files = train_test_split(image_files, test_size=(val_ratio+test_ratio), random_state=42)\n",
        "    val_files, test_files = train_test_split(test_val_files, test_size=test_ratio/(val_ratio+test_ratio), random_state=42)\n",
        "\n",
        "    # Memindahkan file gambar ke subset data train, validation, dan test\n",
        "    for file_name in train_files:\n",
        "        src_path = os.path.join(class_dir, file_name)\n",
        "        dst_path = os.path.join(train_dir, hewan, file_name)\n",
        "        os.makedirs(os.path.dirname(dst_path), exist_ok=True)\n",
        "        shutil.copy(src_path, dst_path)\n",
        "\n",
        "    for file_name in val_files:\n",
        "        src_path = os.path.join(class_dir, file_name)\n",
        "        dst_path = os.path.join(val_dir, hewan, file_name)\n",
        "        os.makedirs(os.path.dirname(dst_path), exist_ok=True)\n",
        "        shutil.copy(src_path, dst_path)\n",
        "\n",
        "    for file_name in test_files:\n",
        "        src_path = os.path.join(class_dir, file_name)\n",
        "        dst_path = os.path.join(test_dir, hewan, file_name)\n",
        "        os.makedirs(os.path.dirname(dst_path), exist_ok=True)\n",
        "        shutil.copy(src_path, dst_path)"
      ]
    },
    {
      "cell_type": "markdown",
      "source": [
        "# Generator data dengan augmentasi\n",
        "Generator data akan memuat dan memproses batch data gambar secara otomatis dengan augmentasi yang ditentukan."
      ],
      "metadata": {
        "id": "XIi0GFEeLODu"
      }
    },
    {
      "cell_type": "code",
      "execution_count": 6,
      "metadata": {
        "id": "s172vfuWpBP4",
        "colab": {
          "base_uri": "https://localhost:8080/"
        },
        "outputId": "41050b24-5444-4144-aab4-3debd18b125b"
      },
      "outputs": [
        {
          "output_type": "stream",
          "name": "stdout",
          "text": [
            "Found 8000 images belonging to 20 classes.\n",
            "Found 1000 images belonging to 20 classes.\n",
            "Found 1000 images belonging to 20 classes.\n"
          ]
        }
      ],
      "source": [
        "# Membuat generator data dengan augmentasi\n",
        "image_size = (256, 256)\n",
        "batch_size = 32\n",
        "\n",
        "train_datagen = ImageDataGenerator(\n",
        "    rescale = 1./255,\n",
        "    rotation_range = 20,\n",
        "    width_shift_range = 0.2,\n",
        "    height_shift_range = 0.2,\n",
        "    shear_range = 0.2,\n",
        "    zoom_range = 0.2,\n",
        "    horizontal_flip = True,\n",
        "    fill_mode='nearest'\n",
        ")\n",
        "\n",
        "val_datagen = ImageDataGenerator(rescale=1./255)\n",
        "test_datagen = ImageDataGenerator(rescale=1./255)\n",
        "\n",
        "train_generator = train_datagen.flow_from_directory(\n",
        "    train_dir,\n",
        "    target_size=image_size,\n",
        "    batch_size=batch_size,\n",
        "    class_mode='categorical'\n",
        ")\n",
        "\n",
        "val_generator = val_datagen.flow_from_directory(\n",
        "    val_dir,\n",
        "    target_size=image_size,\n",
        "    batch_size=batch_size,\n",
        "    class_mode='categorical'\n",
        ")\n",
        "\n",
        "test_generator = test_datagen.flow_from_directory(\n",
        "    test_dir,\n",
        "    target_size=image_size,\n",
        "    batch_size=batch_size,\n",
        "    class_mode='categorical'\n",
        ")"
      ]
    },
    {
      "cell_type": "markdown",
      "source": [
        "# Membuat Arsitektur Model\n",
        " Membuat model SSD (Single Shot MultiBox Detector) dengan menggunakan arsitektur MobileNet sebagai lapisan dalam model yang lebih besar untuk melakukan klasifikasi gambar.\n",
        "\n"
      ],
      "metadata": {
        "id": "I6aUrAdLyma1"
      }
    },
    {
      "cell_type": "code",
      "execution_count": 7,
      "metadata": {
        "id": "p8MefB6xpl9C",
        "colab": {
          "base_uri": "https://localhost:8080/"
        },
        "outputId": "187d3aae-d5d2-405b-cd7a-73d4e22aab21"
      },
      "outputs": [
        {
          "output_type": "stream",
          "name": "stderr",
          "text": [
            "WARNING:tensorflow:`input_shape` is undefined or non-square, or `rows` is not in [96, 128, 160, 192, 224]. Weights for input shape (224, 224) will be loaded as the default.\n"
          ]
        },
        {
          "output_type": "stream",
          "name": "stdout",
          "text": [
            "Downloading data from https://storage.googleapis.com/tensorflow/keras-applications/mobilenet_v2/mobilenet_v2_weights_tf_dim_ordering_tf_kernels_1.0_224_no_top.h5\n",
            "9406464/9406464 [==============================] - 1s 0us/step\n"
          ]
        }
      ],
      "source": [
        "# Membuat model SSD MobileNet sebagai lapisan dalam model yang lebih besar\n",
        "def create_model():\n",
        "    # Input tensor dengan ukuran yang sesuai\n",
        "    input_tensor = Input(shape=(256, 256, 3))\n",
        "\n",
        "    # Membuat model MobileNetV2 tanpa kelas top\n",
        "    base_model = MobileNetV2(input_tensor=input_tensor, include_top=False, weights='imagenet')\n",
        "\n",
        "    # Mengambil keluaran beberapa layer yang sesuai\n",
        "    layer_outputs = [\n",
        "        base_model.get_layer('block_6_expand_relu').output,\n",
        "        base_model.get_layer('block_13_expand_relu').output,\n",
        "        base_model.get_layer('out_relu').output,\n",
        "    ]\n",
        "\n",
        "    # Menyesuaikan dimensi lapisan keluaran\n",
        "    adjusted_layer_outputs = []\n",
        "    for layer_output in layer_outputs:\n",
        "        adjusted_layer_output = Conv2D(256, (1, 1), activation='relu')(layer_output)\n",
        "        adjusted_layer_output = GlobalAveragePooling2D()(adjusted_layer_output)\n",
        "        adjusted_layer_outputs.append(adjusted_layer_output)\n",
        "\n",
        "    # Menggabungkan semua keluaran layer dalam satu tensor\n",
        "    concat_tensor = Concatenate()(adjusted_layer_outputs)\n",
        "\n",
        "    # Menambahkan layer Dense tambahan\n",
        "    dense_layer1 = Dense(256, activation='relu')(concat_tensor)\n",
        "    flatten_layer = Flatten()(dense_layer1)\n",
        "    dropout_layer1 = Dropout(0.5)(flatten_layer)\n",
        "    dense_layer2 = Dense(512, activation='relu')(dropout_layer1)\n",
        "    dropout_layer2 = Dropout(0.5)(dense_layer2)\n",
        "    dense_layer3 = Dense(128, activation='relu')(dropout_layer2)\n",
        "    dropout_layer3 = Dropout(0.5)(dense_layer3)\n",
        "    dense_layer3 = Dense(64, activation='relu')(dropout_layer3)\n",
        "    output_layer = Dense(20, activation='softmax')(dense_layer3)\n",
        "\n",
        "    # Membuat model akhir dengan input dan output tensor yang sesuai\n",
        "    model = Model(inputs=input_tensor, outputs=output_layer)\n",
        "\n",
        "    return model\n",
        "\n",
        "# Membuat model dengan menggunakan fungsi yang telah didefinisikan\n",
        "ssd_model = create_model()\n",
        "\n",
        "# Mengimport modul optimizer dari TensorFlow\n",
        "optimizer = optimizers.Adam(learning_rate=1e-4)\n",
        "\n",
        "# Mengompilasi model dengan optimizer yang telah dimodifikasi\n",
        "ssd_model.compile(optimizer=optimizer, loss='categorical_crossentropy', metrics=['accuracy'])"
      ]
    },
    {
      "cell_type": "markdown",
      "source": [
        "Menampilkan ringkasan (summary) dari arsitektur model SSD MobileNetV2 yang telah dibuat. Ringkasan ini memberikan informasi tentang lapisan-lapisan dalam model beserta jumlah parameter yang digunakan pada setiap lapisan."
      ],
      "metadata": {
        "id": "i_KzZbs6LhXN"
      }
    },
    {
      "cell_type": "code",
      "execution_count": 8,
      "metadata": {
        "id": "qyme5pwVyUiP",
        "colab": {
          "base_uri": "https://localhost:8080/"
        },
        "outputId": "075d500b-4d38-44e8-ed20-6915a519d88c"
      },
      "outputs": [
        {
          "output_type": "stream",
          "name": "stdout",
          "text": [
            "Model: \"model\"\n",
            "__________________________________________________________________________________________________\n",
            " Layer (type)                   Output Shape         Param #     Connected to                     \n",
            "==================================================================================================\n",
            " input_1 (InputLayer)           [(None, 256, 256, 3  0           []                               \n",
            "                                )]                                                                \n",
            "                                                                                                  \n",
            " Conv1 (Conv2D)                 (None, 128, 128, 32  864         ['input_1[0][0]']                \n",
            "                                )                                                                 \n",
            "                                                                                                  \n",
            " bn_Conv1 (BatchNormalization)  (None, 128, 128, 32  128         ['Conv1[0][0]']                  \n",
            "                                )                                                                 \n",
            "                                                                                                  \n",
            " Conv1_relu (ReLU)              (None, 128, 128, 32  0           ['bn_Conv1[0][0]']               \n",
            "                                )                                                                 \n",
            "                                                                                                  \n",
            " expanded_conv_depthwise (Depth  (None, 128, 128, 32  288        ['Conv1_relu[0][0]']             \n",
            " wiseConv2D)                    )                                                                 \n",
            "                                                                                                  \n",
            " expanded_conv_depthwise_BN (Ba  (None, 128, 128, 32  128        ['expanded_conv_depthwise[0][0]']\n",
            " tchNormalization)              )                                                                 \n",
            "                                                                                                  \n",
            " expanded_conv_depthwise_relu (  (None, 128, 128, 32  0          ['expanded_conv_depthwise_BN[0][0\n",
            " ReLU)                          )                                ]']                              \n",
            "                                                                                                  \n",
            " expanded_conv_project (Conv2D)  (None, 128, 128, 16  512        ['expanded_conv_depthwise_relu[0]\n",
            "                                )                                [0]']                            \n",
            "                                                                                                  \n",
            " expanded_conv_project_BN (Batc  (None, 128, 128, 16  64         ['expanded_conv_project[0][0]']  \n",
            " hNormalization)                )                                                                 \n",
            "                                                                                                  \n",
            " block_1_expand (Conv2D)        (None, 128, 128, 96  1536        ['expanded_conv_project_BN[0][0]'\n",
            "                                )                                ]                                \n",
            "                                                                                                  \n",
            " block_1_expand_BN (BatchNormal  (None, 128, 128, 96  384        ['block_1_expand[0][0]']         \n",
            " ization)                       )                                                                 \n",
            "                                                                                                  \n",
            " block_1_expand_relu (ReLU)     (None, 128, 128, 96  0           ['block_1_expand_BN[0][0]']      \n",
            "                                )                                                                 \n",
            "                                                                                                  \n",
            " block_1_pad (ZeroPadding2D)    (None, 129, 129, 96  0           ['block_1_expand_relu[0][0]']    \n",
            "                                )                                                                 \n",
            "                                                                                                  \n",
            " block_1_depthwise (DepthwiseCo  (None, 64, 64, 96)  864         ['block_1_pad[0][0]']            \n",
            " nv2D)                                                                                            \n",
            "                                                                                                  \n",
            " block_1_depthwise_BN (BatchNor  (None, 64, 64, 96)  384         ['block_1_depthwise[0][0]']      \n",
            " malization)                                                                                      \n",
            "                                                                                                  \n",
            " block_1_depthwise_relu (ReLU)  (None, 64, 64, 96)   0           ['block_1_depthwise_BN[0][0]']   \n",
            "                                                                                                  \n",
            " block_1_project (Conv2D)       (None, 64, 64, 24)   2304        ['block_1_depthwise_relu[0][0]'] \n",
            "                                                                                                  \n",
            " block_1_project_BN (BatchNorma  (None, 64, 64, 24)  96          ['block_1_project[0][0]']        \n",
            " lization)                                                                                        \n",
            "                                                                                                  \n",
            " block_2_expand (Conv2D)        (None, 64, 64, 144)  3456        ['block_1_project_BN[0][0]']     \n",
            "                                                                                                  \n",
            " block_2_expand_BN (BatchNormal  (None, 64, 64, 144)  576        ['block_2_expand[0][0]']         \n",
            " ization)                                                                                         \n",
            "                                                                                                  \n",
            " block_2_expand_relu (ReLU)     (None, 64, 64, 144)  0           ['block_2_expand_BN[0][0]']      \n",
            "                                                                                                  \n",
            " block_2_depthwise (DepthwiseCo  (None, 64, 64, 144)  1296       ['block_2_expand_relu[0][0]']    \n",
            " nv2D)                                                                                            \n",
            "                                                                                                  \n",
            " block_2_depthwise_BN (BatchNor  (None, 64, 64, 144)  576        ['block_2_depthwise[0][0]']      \n",
            " malization)                                                                                      \n",
            "                                                                                                  \n",
            " block_2_depthwise_relu (ReLU)  (None, 64, 64, 144)  0           ['block_2_depthwise_BN[0][0]']   \n",
            "                                                                                                  \n",
            " block_2_project (Conv2D)       (None, 64, 64, 24)   3456        ['block_2_depthwise_relu[0][0]'] \n",
            "                                                                                                  \n",
            " block_2_project_BN (BatchNorma  (None, 64, 64, 24)  96          ['block_2_project[0][0]']        \n",
            " lization)                                                                                        \n",
            "                                                                                                  \n",
            " block_2_add (Add)              (None, 64, 64, 24)   0           ['block_1_project_BN[0][0]',     \n",
            "                                                                  'block_2_project_BN[0][0]']     \n",
            "                                                                                                  \n",
            " block_3_expand (Conv2D)        (None, 64, 64, 144)  3456        ['block_2_add[0][0]']            \n",
            "                                                                                                  \n",
            " block_3_expand_BN (BatchNormal  (None, 64, 64, 144)  576        ['block_3_expand[0][0]']         \n",
            " ization)                                                                                         \n",
            "                                                                                                  \n",
            " block_3_expand_relu (ReLU)     (None, 64, 64, 144)  0           ['block_3_expand_BN[0][0]']      \n",
            "                                                                                                  \n",
            " block_3_pad (ZeroPadding2D)    (None, 65, 65, 144)  0           ['block_3_expand_relu[0][0]']    \n",
            "                                                                                                  \n",
            " block_3_depthwise (DepthwiseCo  (None, 32, 32, 144)  1296       ['block_3_pad[0][0]']            \n",
            " nv2D)                                                                                            \n",
            "                                                                                                  \n",
            " block_3_depthwise_BN (BatchNor  (None, 32, 32, 144)  576        ['block_3_depthwise[0][0]']      \n",
            " malization)                                                                                      \n",
            "                                                                                                  \n",
            " block_3_depthwise_relu (ReLU)  (None, 32, 32, 144)  0           ['block_3_depthwise_BN[0][0]']   \n",
            "                                                                                                  \n",
            " block_3_project (Conv2D)       (None, 32, 32, 32)   4608        ['block_3_depthwise_relu[0][0]'] \n",
            "                                                                                                  \n",
            " block_3_project_BN (BatchNorma  (None, 32, 32, 32)  128         ['block_3_project[0][0]']        \n",
            " lization)                                                                                        \n",
            "                                                                                                  \n",
            " block_4_expand (Conv2D)        (None, 32, 32, 192)  6144        ['block_3_project_BN[0][0]']     \n",
            "                                                                                                  \n",
            " block_4_expand_BN (BatchNormal  (None, 32, 32, 192)  768        ['block_4_expand[0][0]']         \n",
            " ization)                                                                                         \n",
            "                                                                                                  \n",
            " block_4_expand_relu (ReLU)     (None, 32, 32, 192)  0           ['block_4_expand_BN[0][0]']      \n",
            "                                                                                                  \n",
            " block_4_depthwise (DepthwiseCo  (None, 32, 32, 192)  1728       ['block_4_expand_relu[0][0]']    \n",
            " nv2D)                                                                                            \n",
            "                                                                                                  \n",
            " block_4_depthwise_BN (BatchNor  (None, 32, 32, 192)  768        ['block_4_depthwise[0][0]']      \n",
            " malization)                                                                                      \n",
            "                                                                                                  \n",
            " block_4_depthwise_relu (ReLU)  (None, 32, 32, 192)  0           ['block_4_depthwise_BN[0][0]']   \n",
            "                                                                                                  \n",
            " block_4_project (Conv2D)       (None, 32, 32, 32)   6144        ['block_4_depthwise_relu[0][0]'] \n",
            "                                                                                                  \n",
            " block_4_project_BN (BatchNorma  (None, 32, 32, 32)  128         ['block_4_project[0][0]']        \n",
            " lization)                                                                                        \n",
            "                                                                                                  \n",
            " block_4_add (Add)              (None, 32, 32, 32)   0           ['block_3_project_BN[0][0]',     \n",
            "                                                                  'block_4_project_BN[0][0]']     \n",
            "                                                                                                  \n",
            " block_5_expand (Conv2D)        (None, 32, 32, 192)  6144        ['block_4_add[0][0]']            \n",
            "                                                                                                  \n",
            " block_5_expand_BN (BatchNormal  (None, 32, 32, 192)  768        ['block_5_expand[0][0]']         \n",
            " ization)                                                                                         \n",
            "                                                                                                  \n",
            " block_5_expand_relu (ReLU)     (None, 32, 32, 192)  0           ['block_5_expand_BN[0][0]']      \n",
            "                                                                                                  \n",
            " block_5_depthwise (DepthwiseCo  (None, 32, 32, 192)  1728       ['block_5_expand_relu[0][0]']    \n",
            " nv2D)                                                                                            \n",
            "                                                                                                  \n",
            " block_5_depthwise_BN (BatchNor  (None, 32, 32, 192)  768        ['block_5_depthwise[0][0]']      \n",
            " malization)                                                                                      \n",
            "                                                                                                  \n",
            " block_5_depthwise_relu (ReLU)  (None, 32, 32, 192)  0           ['block_5_depthwise_BN[0][0]']   \n",
            "                                                                                                  \n",
            " block_5_project (Conv2D)       (None, 32, 32, 32)   6144        ['block_5_depthwise_relu[0][0]'] \n",
            "                                                                                                  \n",
            " block_5_project_BN (BatchNorma  (None, 32, 32, 32)  128         ['block_5_project[0][0]']        \n",
            " lization)                                                                                        \n",
            "                                                                                                  \n",
            " block_5_add (Add)              (None, 32, 32, 32)   0           ['block_4_add[0][0]',            \n",
            "                                                                  'block_5_project_BN[0][0]']     \n",
            "                                                                                                  \n",
            " block_6_expand (Conv2D)        (None, 32, 32, 192)  6144        ['block_5_add[0][0]']            \n",
            "                                                                                                  \n",
            " block_6_expand_BN (BatchNormal  (None, 32, 32, 192)  768        ['block_6_expand[0][0]']         \n",
            " ization)                                                                                         \n",
            "                                                                                                  \n",
            " block_6_expand_relu (ReLU)     (None, 32, 32, 192)  0           ['block_6_expand_BN[0][0]']      \n",
            "                                                                                                  \n",
            " block_6_pad (ZeroPadding2D)    (None, 33, 33, 192)  0           ['block_6_expand_relu[0][0]']    \n",
            "                                                                                                  \n",
            " block_6_depthwise (DepthwiseCo  (None, 16, 16, 192)  1728       ['block_6_pad[0][0]']            \n",
            " nv2D)                                                                                            \n",
            "                                                                                                  \n",
            " block_6_depthwise_BN (BatchNor  (None, 16, 16, 192)  768        ['block_6_depthwise[0][0]']      \n",
            " malization)                                                                                      \n",
            "                                                                                                  \n",
            " block_6_depthwise_relu (ReLU)  (None, 16, 16, 192)  0           ['block_6_depthwise_BN[0][0]']   \n",
            "                                                                                                  \n",
            " block_6_project (Conv2D)       (None, 16, 16, 64)   12288       ['block_6_depthwise_relu[0][0]'] \n",
            "                                                                                                  \n",
            " block_6_project_BN (BatchNorma  (None, 16, 16, 64)  256         ['block_6_project[0][0]']        \n",
            " lization)                                                                                        \n",
            "                                                                                                  \n",
            " block_7_expand (Conv2D)        (None, 16, 16, 384)  24576       ['block_6_project_BN[0][0]']     \n",
            "                                                                                                  \n",
            " block_7_expand_BN (BatchNormal  (None, 16, 16, 384)  1536       ['block_7_expand[0][0]']         \n",
            " ization)                                                                                         \n",
            "                                                                                                  \n",
            " block_7_expand_relu (ReLU)     (None, 16, 16, 384)  0           ['block_7_expand_BN[0][0]']      \n",
            "                                                                                                  \n",
            " block_7_depthwise (DepthwiseCo  (None, 16, 16, 384)  3456       ['block_7_expand_relu[0][0]']    \n",
            " nv2D)                                                                                            \n",
            "                                                                                                  \n",
            " block_7_depthwise_BN (BatchNor  (None, 16, 16, 384)  1536       ['block_7_depthwise[0][0]']      \n",
            " malization)                                                                                      \n",
            "                                                                                                  \n",
            " block_7_depthwise_relu (ReLU)  (None, 16, 16, 384)  0           ['block_7_depthwise_BN[0][0]']   \n",
            "                                                                                                  \n",
            " block_7_project (Conv2D)       (None, 16, 16, 64)   24576       ['block_7_depthwise_relu[0][0]'] \n",
            "                                                                                                  \n",
            " block_7_project_BN (BatchNorma  (None, 16, 16, 64)  256         ['block_7_project[0][0]']        \n",
            " lization)                                                                                        \n",
            "                                                                                                  \n",
            " block_7_add (Add)              (None, 16, 16, 64)   0           ['block_6_project_BN[0][0]',     \n",
            "                                                                  'block_7_project_BN[0][0]']     \n",
            "                                                                                                  \n",
            " block_8_expand (Conv2D)        (None, 16, 16, 384)  24576       ['block_7_add[0][0]']            \n",
            "                                                                                                  \n",
            " block_8_expand_BN (BatchNormal  (None, 16, 16, 384)  1536       ['block_8_expand[0][0]']         \n",
            " ization)                                                                                         \n",
            "                                                                                                  \n",
            " block_8_expand_relu (ReLU)     (None, 16, 16, 384)  0           ['block_8_expand_BN[0][0]']      \n",
            "                                                                                                  \n",
            " block_8_depthwise (DepthwiseCo  (None, 16, 16, 384)  3456       ['block_8_expand_relu[0][0]']    \n",
            " nv2D)                                                                                            \n",
            "                                                                                                  \n",
            " block_8_depthwise_BN (BatchNor  (None, 16, 16, 384)  1536       ['block_8_depthwise[0][0]']      \n",
            " malization)                                                                                      \n",
            "                                                                                                  \n",
            " block_8_depthwise_relu (ReLU)  (None, 16, 16, 384)  0           ['block_8_depthwise_BN[0][0]']   \n",
            "                                                                                                  \n",
            " block_8_project (Conv2D)       (None, 16, 16, 64)   24576       ['block_8_depthwise_relu[0][0]'] \n",
            "                                                                                                  \n",
            " block_8_project_BN (BatchNorma  (None, 16, 16, 64)  256         ['block_8_project[0][0]']        \n",
            " lization)                                                                                        \n",
            "                                                                                                  \n",
            " block_8_add (Add)              (None, 16, 16, 64)   0           ['block_7_add[0][0]',            \n",
            "                                                                  'block_8_project_BN[0][0]']     \n",
            "                                                                                                  \n",
            " block_9_expand (Conv2D)        (None, 16, 16, 384)  24576       ['block_8_add[0][0]']            \n",
            "                                                                                                  \n",
            " block_9_expand_BN (BatchNormal  (None, 16, 16, 384)  1536       ['block_9_expand[0][0]']         \n",
            " ization)                                                                                         \n",
            "                                                                                                  \n",
            " block_9_expand_relu (ReLU)     (None, 16, 16, 384)  0           ['block_9_expand_BN[0][0]']      \n",
            "                                                                                                  \n",
            " block_9_depthwise (DepthwiseCo  (None, 16, 16, 384)  3456       ['block_9_expand_relu[0][0]']    \n",
            " nv2D)                                                                                            \n",
            "                                                                                                  \n",
            " block_9_depthwise_BN (BatchNor  (None, 16, 16, 384)  1536       ['block_9_depthwise[0][0]']      \n",
            " malization)                                                                                      \n",
            "                                                                                                  \n",
            " block_9_depthwise_relu (ReLU)  (None, 16, 16, 384)  0           ['block_9_depthwise_BN[0][0]']   \n",
            "                                                                                                  \n",
            " block_9_project (Conv2D)       (None, 16, 16, 64)   24576       ['block_9_depthwise_relu[0][0]'] \n",
            "                                                                                                  \n",
            " block_9_project_BN (BatchNorma  (None, 16, 16, 64)  256         ['block_9_project[0][0]']        \n",
            " lization)                                                                                        \n",
            "                                                                                                  \n",
            " block_9_add (Add)              (None, 16, 16, 64)   0           ['block_8_add[0][0]',            \n",
            "                                                                  'block_9_project_BN[0][0]']     \n",
            "                                                                                                  \n",
            " block_10_expand (Conv2D)       (None, 16, 16, 384)  24576       ['block_9_add[0][0]']            \n",
            "                                                                                                  \n",
            " block_10_expand_BN (BatchNorma  (None, 16, 16, 384)  1536       ['block_10_expand[0][0]']        \n",
            " lization)                                                                                        \n",
            "                                                                                                  \n",
            " block_10_expand_relu (ReLU)    (None, 16, 16, 384)  0           ['block_10_expand_BN[0][0]']     \n",
            "                                                                                                  \n",
            " block_10_depthwise (DepthwiseC  (None, 16, 16, 384)  3456       ['block_10_expand_relu[0][0]']   \n",
            " onv2D)                                                                                           \n",
            "                                                                                                  \n",
            " block_10_depthwise_BN (BatchNo  (None, 16, 16, 384)  1536       ['block_10_depthwise[0][0]']     \n",
            " rmalization)                                                                                     \n",
            "                                                                                                  \n",
            " block_10_depthwise_relu (ReLU)  (None, 16, 16, 384)  0          ['block_10_depthwise_BN[0][0]']  \n",
            "                                                                                                  \n",
            " block_10_project (Conv2D)      (None, 16, 16, 96)   36864       ['block_10_depthwise_relu[0][0]']\n",
            "                                                                                                  \n",
            " block_10_project_BN (BatchNorm  (None, 16, 16, 96)  384         ['block_10_project[0][0]']       \n",
            " alization)                                                                                       \n",
            "                                                                                                  \n",
            " block_11_expand (Conv2D)       (None, 16, 16, 576)  55296       ['block_10_project_BN[0][0]']    \n",
            "                                                                                                  \n",
            " block_11_expand_BN (BatchNorma  (None, 16, 16, 576)  2304       ['block_11_expand[0][0]']        \n",
            " lization)                                                                                        \n",
            "                                                                                                  \n",
            " block_11_expand_relu (ReLU)    (None, 16, 16, 576)  0           ['block_11_expand_BN[0][0]']     \n",
            "                                                                                                  \n",
            " block_11_depthwise (DepthwiseC  (None, 16, 16, 576)  5184       ['block_11_expand_relu[0][0]']   \n",
            " onv2D)                                                                                           \n",
            "                                                                                                  \n",
            " block_11_depthwise_BN (BatchNo  (None, 16, 16, 576)  2304       ['block_11_depthwise[0][0]']     \n",
            " rmalization)                                                                                     \n",
            "                                                                                                  \n",
            " block_11_depthwise_relu (ReLU)  (None, 16, 16, 576)  0          ['block_11_depthwise_BN[0][0]']  \n",
            "                                                                                                  \n",
            " block_11_project (Conv2D)      (None, 16, 16, 96)   55296       ['block_11_depthwise_relu[0][0]']\n",
            "                                                                                                  \n",
            " block_11_project_BN (BatchNorm  (None, 16, 16, 96)  384         ['block_11_project[0][0]']       \n",
            " alization)                                                                                       \n",
            "                                                                                                  \n",
            " block_11_add (Add)             (None, 16, 16, 96)   0           ['block_10_project_BN[0][0]',    \n",
            "                                                                  'block_11_project_BN[0][0]']    \n",
            "                                                                                                  \n",
            " block_12_expand (Conv2D)       (None, 16, 16, 576)  55296       ['block_11_add[0][0]']           \n",
            "                                                                                                  \n",
            " block_12_expand_BN (BatchNorma  (None, 16, 16, 576)  2304       ['block_12_expand[0][0]']        \n",
            " lization)                                                                                        \n",
            "                                                                                                  \n",
            " block_12_expand_relu (ReLU)    (None, 16, 16, 576)  0           ['block_12_expand_BN[0][0]']     \n",
            "                                                                                                  \n",
            " block_12_depthwise (DepthwiseC  (None, 16, 16, 576)  5184       ['block_12_expand_relu[0][0]']   \n",
            " onv2D)                                                                                           \n",
            "                                                                                                  \n",
            " block_12_depthwise_BN (BatchNo  (None, 16, 16, 576)  2304       ['block_12_depthwise[0][0]']     \n",
            " rmalization)                                                                                     \n",
            "                                                                                                  \n",
            " block_12_depthwise_relu (ReLU)  (None, 16, 16, 576)  0          ['block_12_depthwise_BN[0][0]']  \n",
            "                                                                                                  \n",
            " block_12_project (Conv2D)      (None, 16, 16, 96)   55296       ['block_12_depthwise_relu[0][0]']\n",
            "                                                                                                  \n",
            " block_12_project_BN (BatchNorm  (None, 16, 16, 96)  384         ['block_12_project[0][0]']       \n",
            " alization)                                                                                       \n",
            "                                                                                                  \n",
            " block_12_add (Add)             (None, 16, 16, 96)   0           ['block_11_add[0][0]',           \n",
            "                                                                  'block_12_project_BN[0][0]']    \n",
            "                                                                                                  \n",
            " block_13_expand (Conv2D)       (None, 16, 16, 576)  55296       ['block_12_add[0][0]']           \n",
            "                                                                                                  \n",
            " block_13_expand_BN (BatchNorma  (None, 16, 16, 576)  2304       ['block_13_expand[0][0]']        \n",
            " lization)                                                                                        \n",
            "                                                                                                  \n",
            " block_13_expand_relu (ReLU)    (None, 16, 16, 576)  0           ['block_13_expand_BN[0][0]']     \n",
            "                                                                                                  \n",
            " block_13_pad (ZeroPadding2D)   (None, 17, 17, 576)  0           ['block_13_expand_relu[0][0]']   \n",
            "                                                                                                  \n",
            " block_13_depthwise (DepthwiseC  (None, 8, 8, 576)   5184        ['block_13_pad[0][0]']           \n",
            " onv2D)                                                                                           \n",
            "                                                                                                  \n",
            " block_13_depthwise_BN (BatchNo  (None, 8, 8, 576)   2304        ['block_13_depthwise[0][0]']     \n",
            " rmalization)                                                                                     \n",
            "                                                                                                  \n",
            " block_13_depthwise_relu (ReLU)  (None, 8, 8, 576)   0           ['block_13_depthwise_BN[0][0]']  \n",
            "                                                                                                  \n",
            " block_13_project (Conv2D)      (None, 8, 8, 160)    92160       ['block_13_depthwise_relu[0][0]']\n",
            "                                                                                                  \n",
            " block_13_project_BN (BatchNorm  (None, 8, 8, 160)   640         ['block_13_project[0][0]']       \n",
            " alization)                                                                                       \n",
            "                                                                                                  \n",
            " block_14_expand (Conv2D)       (None, 8, 8, 960)    153600      ['block_13_project_BN[0][0]']    \n",
            "                                                                                                  \n",
            " block_14_expand_BN (BatchNorma  (None, 8, 8, 960)   3840        ['block_14_expand[0][0]']        \n",
            " lization)                                                                                        \n",
            "                                                                                                  \n",
            " block_14_expand_relu (ReLU)    (None, 8, 8, 960)    0           ['block_14_expand_BN[0][0]']     \n",
            "                                                                                                  \n",
            " block_14_depthwise (DepthwiseC  (None, 8, 8, 960)   8640        ['block_14_expand_relu[0][0]']   \n",
            " onv2D)                                                                                           \n",
            "                                                                                                  \n",
            " block_14_depthwise_BN (BatchNo  (None, 8, 8, 960)   3840        ['block_14_depthwise[0][0]']     \n",
            " rmalization)                                                                                     \n",
            "                                                                                                  \n",
            " block_14_depthwise_relu (ReLU)  (None, 8, 8, 960)   0           ['block_14_depthwise_BN[0][0]']  \n",
            "                                                                                                  \n",
            " block_14_project (Conv2D)      (None, 8, 8, 160)    153600      ['block_14_depthwise_relu[0][0]']\n",
            "                                                                                                  \n",
            " block_14_project_BN (BatchNorm  (None, 8, 8, 160)   640         ['block_14_project[0][0]']       \n",
            " alization)                                                                                       \n",
            "                                                                                                  \n",
            " block_14_add (Add)             (None, 8, 8, 160)    0           ['block_13_project_BN[0][0]',    \n",
            "                                                                  'block_14_project_BN[0][0]']    \n",
            "                                                                                                  \n",
            " block_15_expand (Conv2D)       (None, 8, 8, 960)    153600      ['block_14_add[0][0]']           \n",
            "                                                                                                  \n",
            " block_15_expand_BN (BatchNorma  (None, 8, 8, 960)   3840        ['block_15_expand[0][0]']        \n",
            " lization)                                                                                        \n",
            "                                                                                                  \n",
            " block_15_expand_relu (ReLU)    (None, 8, 8, 960)    0           ['block_15_expand_BN[0][0]']     \n",
            "                                                                                                  \n",
            " block_15_depthwise (DepthwiseC  (None, 8, 8, 960)   8640        ['block_15_expand_relu[0][0]']   \n",
            " onv2D)                                                                                           \n",
            "                                                                                                  \n",
            " block_15_depthwise_BN (BatchNo  (None, 8, 8, 960)   3840        ['block_15_depthwise[0][0]']     \n",
            " rmalization)                                                                                     \n",
            "                                                                                                  \n",
            " block_15_depthwise_relu (ReLU)  (None, 8, 8, 960)   0           ['block_15_depthwise_BN[0][0]']  \n",
            "                                                                                                  \n",
            " block_15_project (Conv2D)      (None, 8, 8, 160)    153600      ['block_15_depthwise_relu[0][0]']\n",
            "                                                                                                  \n",
            " block_15_project_BN (BatchNorm  (None, 8, 8, 160)   640         ['block_15_project[0][0]']       \n",
            " alization)                                                                                       \n",
            "                                                                                                  \n",
            " block_15_add (Add)             (None, 8, 8, 160)    0           ['block_14_add[0][0]',           \n",
            "                                                                  'block_15_project_BN[0][0]']    \n",
            "                                                                                                  \n",
            " block_16_expand (Conv2D)       (None, 8, 8, 960)    153600      ['block_15_add[0][0]']           \n",
            "                                                                                                  \n",
            " block_16_expand_BN (BatchNorma  (None, 8, 8, 960)   3840        ['block_16_expand[0][0]']        \n",
            " lization)                                                                                        \n",
            "                                                                                                  \n",
            " block_16_expand_relu (ReLU)    (None, 8, 8, 960)    0           ['block_16_expand_BN[0][0]']     \n",
            "                                                                                                  \n",
            " block_16_depthwise (DepthwiseC  (None, 8, 8, 960)   8640        ['block_16_expand_relu[0][0]']   \n",
            " onv2D)                                                                                           \n",
            "                                                                                                  \n",
            " block_16_depthwise_BN (BatchNo  (None, 8, 8, 960)   3840        ['block_16_depthwise[0][0]']     \n",
            " rmalization)                                                                                     \n",
            "                                                                                                  \n",
            " block_16_depthwise_relu (ReLU)  (None, 8, 8, 960)   0           ['block_16_depthwise_BN[0][0]']  \n",
            "                                                                                                  \n",
            " block_16_project (Conv2D)      (None, 8, 8, 320)    307200      ['block_16_depthwise_relu[0][0]']\n",
            "                                                                                                  \n",
            " block_16_project_BN (BatchNorm  (None, 8, 8, 320)   1280        ['block_16_project[0][0]']       \n",
            " alization)                                                                                       \n",
            "                                                                                                  \n",
            " Conv_1 (Conv2D)                (None, 8, 8, 1280)   409600      ['block_16_project_BN[0][0]']    \n",
            "                                                                                                  \n",
            " Conv_1_bn (BatchNormalization)  (None, 8, 8, 1280)  5120        ['Conv_1[0][0]']                 \n",
            "                                                                                                  \n",
            " out_relu (ReLU)                (None, 8, 8, 1280)   0           ['Conv_1_bn[0][0]']              \n",
            "                                                                                                  \n",
            " conv2d (Conv2D)                (None, 32, 32, 256)  49408       ['block_6_expand_relu[0][0]']    \n",
            "                                                                                                  \n",
            " conv2d_1 (Conv2D)              (None, 16, 16, 256)  147712      ['block_13_expand_relu[0][0]']   \n",
            "                                                                                                  \n",
            " conv2d_2 (Conv2D)              (None, 8, 8, 256)    327936      ['out_relu[0][0]']               \n",
            "                                                                                                  \n",
            " global_average_pooling2d (Glob  (None, 256)         0           ['conv2d[0][0]']                 \n",
            " alAveragePooling2D)                                                                              \n",
            "                                                                                                  \n",
            " global_average_pooling2d_1 (Gl  (None, 256)         0           ['conv2d_1[0][0]']               \n",
            " obalAveragePooling2D)                                                                            \n",
            "                                                                                                  \n",
            " global_average_pooling2d_2 (Gl  (None, 256)         0           ['conv2d_2[0][0]']               \n",
            " obalAveragePooling2D)                                                                            \n",
            "                                                                                                  \n",
            " concatenate (Concatenate)      (None, 768)          0           ['global_average_pooling2d[0][0]'\n",
            "                                                                 , 'global_average_pooling2d_1[0][\n",
            "                                                                 0]',                             \n",
            "                                                                  'global_average_pooling2d_2[0][0\n",
            "                                                                 ]']                              \n",
            "                                                                                                  \n",
            " dense (Dense)                  (None, 256)          196864      ['concatenate[0][0]']            \n",
            "                                                                                                  \n",
            " flatten (Flatten)              (None, 256)          0           ['dense[0][0]']                  \n",
            "                                                                                                  \n",
            " dropout (Dropout)              (None, 256)          0           ['flatten[0][0]']                \n",
            "                                                                                                  \n",
            " dense_1 (Dense)                (None, 512)          131584      ['dropout[0][0]']                \n",
            "                                                                                                  \n",
            " dropout_1 (Dropout)            (None, 512)          0           ['dense_1[0][0]']                \n",
            "                                                                                                  \n",
            " dense_2 (Dense)                (None, 128)          65664       ['dropout_1[0][0]']              \n",
            "                                                                                                  \n",
            " dropout_2 (Dropout)            (None, 128)          0           ['dense_2[0][0]']                \n",
            "                                                                                                  \n",
            " dense_3 (Dense)                (None, 64)           8256        ['dropout_2[0][0]']              \n",
            "                                                                                                  \n",
            " dense_4 (Dense)                (None, 20)           1300        ['dense_3[0][0]']                \n",
            "                                                                                                  \n",
            "==================================================================================================\n",
            "Total params: 3,186,708\n",
            "Trainable params: 3,152,596\n",
            "Non-trainable params: 34,112\n",
            "__________________________________________________________________________________________________\n"
          ]
        }
      ],
      "source": [
        "ssd_model.summary()"
      ]
    },
    {
      "cell_type": "markdown",
      "source": [
        "# Checkpoint dan CSVLogger\n",
        "Menggunakan checkpoint untuk menyimpan model yang sedang dilatih selama training berlangsung. Checkpoint disimpan pada drive dan berguna untuk memastikan bahwa model yang dilatih dapat disimpan dan dipulihkan pada titik tertentu, sehingga tidak perlu melatih ulang model dari awal jika terjadi kesalahan atau jika pelatihan terputus. "
      ],
      "metadata": {
        "id": "qLJDDKsGzBsR"
      }
    },
    {
      "cell_type": "code",
      "source": [
        "# Mendefinisikan path untuk menyimpan checkpoint\n",
        "checkpoint_path = '/content/drive/MyDrive/checkpoints/model_ssd.h5'\n",
        "\n",
        "# Membuat callback ModelCheckpoint\n",
        "checkpoint_callback = ModelCheckpoint(filepath=checkpoint_path,\n",
        "                                      monitor='val_accuracy',  # Menyimpan berdasarkan val_loss\n",
        "                                      save_best_only=True,  # Hanya menyimpan model terbaik\n",
        "                                      save_weights_only=False,  # Menyimpan seluruh model (termasuk arsitektur)\n",
        "                                      mode='max', # Menyimpan model hanya jika nilai metrik tersebut meningkat\n",
        "                                      verbose=1)  # Menampilkan pesan saat menyimpan\n"
      ],
      "metadata": {
        "id": "Q_yKIhp0F4-L"
      },
      "execution_count": 9,
      "outputs": []
    },
    {
      "cell_type": "markdown",
      "source": [
        "Menggunakan CSVlogger untuk mencatat log pelatihan dalam format CSV. CSVLogger akan digunakan sebagai callback saat melatih model untuk mencatat metrik pelatihan, seperti loss dan akurasi, ke dalam file log CSV yang spesifik.\n",
        "\n",
        "\n",
        "\n",
        "\n"
      ],
      "metadata": {
        "id": "gofTcXYz0S2p"
      }
    },
    {
      "cell_type": "code",
      "source": [
        "# Mendefinisikan path direktori training\n",
        "training_dir = '/content/drive/MyDrive/training'\n",
        "\n",
        "# Membuat direktori training jika belum ada\n",
        "os.makedirs(training_dir, exist_ok=True)\n",
        "\n",
        "# Path untuk file log training\n",
        "log_path = os.path.join(training_dir, 'trainingssd.log')\n",
        "\n",
        "# Membuat objek CSVLogger dengan path log yang sudah ditentukan\n",
        "csv_logger = tf.keras.callbacks.CSVLogger(log_path)"
      ],
      "metadata": {
        "id": "BmkKkqJ-w-ji"
      },
      "execution_count": 10,
      "outputs": []
    },
    {
      "cell_type": "markdown",
      "source": [
        "Model Checkpoint akan menyimpan model pada titik-titik tertentu selama pelatihan berdasarkan kriteria yang telah ditentukan, sedangkan CSVLogger akan mencatat log pelatihan ke dalam file log CSV."
      ],
      "metadata": {
        "id": "68TljGiE0l7l"
      }
    },
    {
      "cell_type": "markdown",
      "source": [
        "# Pelatihan Model\n",
        "Melatih model menggunakan data pelatihan dan dievaluasi menggunakan data validasi, sambil mencatat metrik pelatihan dan validasi seperti akurasi dan loss pada setiap epoch."
      ],
      "metadata": {
        "id": "FL178F2wLz-Q"
      }
    },
    {
      "cell_type": "code",
      "execution_count": 11,
      "metadata": {
        "id": "MBhd1ZJVrhYn",
        "colab": {
          "base_uri": "https://localhost:8080/"
        },
        "outputId": "751d10a8-444d-4ea7-9ef5-0633758b8cc8"
      },
      "outputs": [
        {
          "output_type": "stream",
          "name": "stdout",
          "text": [
            "Epoch 1/25\n",
            "250/250 [==============================] - ETA: 0s - loss: 2.8630 - accuracy: 0.1103\n",
            "Epoch 1: val_accuracy improved from -inf to 0.46069, saving model to /content/drive/MyDrive/checkpoints/model_ssd.h5\n",
            "250/250 [==============================] - 209s 651ms/step - loss: 2.8630 - accuracy: 0.1103 - val_loss: 1.9734 - val_accuracy: 0.4607\n",
            "Epoch 2/25\n",
            "250/250 [==============================] - ETA: 0s - loss: 1.8388 - accuracy: 0.4055\n",
            "Epoch 2: val_accuracy improved from 0.46069 to 0.77520, saving model to /content/drive/MyDrive/checkpoints/model_ssd.h5\n",
            "250/250 [==============================] - 160s 640ms/step - loss: 1.8388 - accuracy: 0.4055 - val_loss: 0.8940 - val_accuracy: 0.7752\n",
            "Epoch 3/25\n",
            "250/250 [==============================] - ETA: 0s - loss: 1.0336 - accuracy: 0.6706\n",
            "Epoch 3: val_accuracy improved from 0.77520 to 0.87399, saving model to /content/drive/MyDrive/checkpoints/model_ssd.h5\n",
            "250/250 [==============================] - 161s 643ms/step - loss: 1.0336 - accuracy: 0.6706 - val_loss: 0.4676 - val_accuracy: 0.8740\n",
            "Epoch 4/25\n",
            "250/250 [==============================] - ETA: 0s - loss: 0.6713 - accuracy: 0.8016\n",
            "Epoch 4: val_accuracy did not improve from 0.87399\n",
            "250/250 [==============================] - 157s 626ms/step - loss: 0.6713 - accuracy: 0.8016 - val_loss: 0.5100 - val_accuracy: 0.8649\n",
            "Epoch 5/25\n",
            "250/250 [==============================] - ETA: 0s - loss: 0.4989 - accuracy: 0.8531\n",
            "Epoch 5: val_accuracy improved from 0.87399 to 0.88810, saving model to /content/drive/MyDrive/checkpoints/model_ssd.h5\n",
            "250/250 [==============================] - 159s 635ms/step - loss: 0.4989 - accuracy: 0.8531 - val_loss: 0.4630 - val_accuracy: 0.8881\n",
            "Epoch 6/25\n",
            "250/250 [==============================] - ETA: 0s - loss: 0.4046 - accuracy: 0.8876\n",
            "Epoch 6: val_accuracy did not improve from 0.88810\n",
            "250/250 [==============================] - 157s 626ms/step - loss: 0.4046 - accuracy: 0.8876 - val_loss: 0.6235 - val_accuracy: 0.8790\n",
            "Epoch 7/25\n",
            "250/250 [==============================] - ETA: 0s - loss: 0.3225 - accuracy: 0.9139\n",
            "Epoch 7: val_accuracy improved from 0.88810 to 0.89617, saving model to /content/drive/MyDrive/checkpoints/model_ssd.h5\n",
            "250/250 [==============================] - 157s 629ms/step - loss: 0.3225 - accuracy: 0.9139 - val_loss: 0.5212 - val_accuracy: 0.8962\n",
            "Epoch 8/25\n",
            "250/250 [==============================] - ETA: 0s - loss: 0.2900 - accuracy: 0.9219\n",
            "Epoch 8: val_accuracy did not improve from 0.89617\n",
            "250/250 [==============================] - 155s 619ms/step - loss: 0.2900 - accuracy: 0.9219 - val_loss: 0.5700 - val_accuracy: 0.8931\n",
            "Epoch 9/25\n",
            "250/250 [==============================] - ETA: 0s - loss: 0.2592 - accuracy: 0.9356\n",
            "Epoch 9: val_accuracy improved from 0.89617 to 0.89819, saving model to /content/drive/MyDrive/checkpoints/model_ssd.h5\n",
            "250/250 [==============================] - 157s 627ms/step - loss: 0.2592 - accuracy: 0.9356 - val_loss: 0.5320 - val_accuracy: 0.8982\n",
            "Epoch 10/25\n",
            "250/250 [==============================] - ETA: 0s - loss: 0.2113 - accuracy: 0.9466\n",
            "Epoch 10: val_accuracy improved from 0.89819 to 0.93145, saving model to /content/drive/MyDrive/checkpoints/model_ssd.h5\n",
            "250/250 [==============================] - 157s 628ms/step - loss: 0.2113 - accuracy: 0.9466 - val_loss: 0.3046 - val_accuracy: 0.9315\n",
            "Epoch 11/25\n",
            "250/250 [==============================] - ETA: 0s - loss: 0.2012 - accuracy: 0.9485\n",
            "Epoch 11: val_accuracy improved from 0.93145 to 0.94556, saving model to /content/drive/MyDrive/checkpoints/model_ssd.h5\n",
            "250/250 [==============================] - 154s 617ms/step - loss: 0.2012 - accuracy: 0.9485 - val_loss: 0.2660 - val_accuracy: 0.9456\n",
            "Epoch 12/25\n",
            "250/250 [==============================] - ETA: 0s - loss: 0.1849 - accuracy: 0.9553\n",
            "Epoch 12: val_accuracy improved from 0.94556 to 0.95363, saving model to /content/drive/MyDrive/checkpoints/model_ssd.h5\n",
            "250/250 [==============================] - 155s 622ms/step - loss: 0.1849 - accuracy: 0.9553 - val_loss: 0.2465 - val_accuracy: 0.9536\n",
            "Epoch 13/25\n",
            "250/250 [==============================] - ETA: 0s - loss: 0.1877 - accuracy: 0.9523\n",
            "Epoch 13: val_accuracy did not improve from 0.95363\n",
            "250/250 [==============================] - 153s 613ms/step - loss: 0.1877 - accuracy: 0.9523 - val_loss: 0.4296 - val_accuracy: 0.9486\n",
            "Epoch 14/25\n",
            "250/250 [==============================] - ETA: 0s - loss: 0.1680 - accuracy: 0.9641\n",
            "Epoch 14: val_accuracy did not improve from 0.95363\n",
            "250/250 [==============================] - 152s 606ms/step - loss: 0.1680 - accuracy: 0.9641 - val_loss: 0.3614 - val_accuracy: 0.9365\n",
            "Epoch 15/25\n",
            "250/250 [==============================] - ETA: 0s - loss: 0.1481 - accuracy: 0.9639\n",
            "Epoch 15: val_accuracy did not improve from 0.95363\n",
            "250/250 [==============================] - 154s 614ms/step - loss: 0.1481 - accuracy: 0.9639 - val_loss: 0.5618 - val_accuracy: 0.9204\n",
            "Epoch 16/25\n",
            "250/250 [==============================] - ETA: 0s - loss: 0.1450 - accuracy: 0.9653\n",
            "Epoch 16: val_accuracy did not improve from 0.95363\n",
            "250/250 [==============================] - 151s 605ms/step - loss: 0.1450 - accuracy: 0.9653 - val_loss: 0.4717 - val_accuracy: 0.9194\n",
            "Epoch 17/25\n",
            "250/250 [==============================] - ETA: 0s - loss: 0.1401 - accuracy: 0.9660\n",
            "Epoch 17: val_accuracy did not improve from 0.95363\n",
            "250/250 [==============================] - 152s 607ms/step - loss: 0.1401 - accuracy: 0.9660 - val_loss: 0.6239 - val_accuracy: 0.9062\n",
            "Epoch 18/25\n",
            "250/250 [==============================] - ETA: 0s - loss: 0.1202 - accuracy: 0.9694\n",
            "Epoch 18: val_accuracy did not improve from 0.95363\n",
            "250/250 [==============================] - 154s 614ms/step - loss: 0.1202 - accuracy: 0.9694 - val_loss: 0.4548 - val_accuracy: 0.9294\n",
            "Epoch 19/25\n",
            "250/250 [==============================] - ETA: 0s - loss: 0.1179 - accuracy: 0.9710\n",
            "Epoch 19: val_accuracy did not improve from 0.95363\n",
            "250/250 [==============================] - 151s 604ms/step - loss: 0.1179 - accuracy: 0.9710 - val_loss: 0.3939 - val_accuracy: 0.9375\n",
            "Epoch 20/25\n",
            "250/250 [==============================] - ETA: 0s - loss: 0.1079 - accuracy: 0.9744\n",
            "Epoch 20: val_accuracy did not improve from 0.95363\n",
            "250/250 [==============================] - 151s 603ms/step - loss: 0.1079 - accuracy: 0.9744 - val_loss: 0.3433 - val_accuracy: 0.9325\n",
            "Epoch 21/25\n",
            "250/250 [==============================] - ETA: 0s - loss: 0.1184 - accuracy: 0.9725\n",
            "Epoch 21: val_accuracy did not improve from 0.95363\n",
            "250/250 [==============================] - 154s 615ms/step - loss: 0.1184 - accuracy: 0.9725 - val_loss: 0.4036 - val_accuracy: 0.9284\n",
            "Epoch 22/25\n",
            "250/250 [==============================] - ETA: 0s - loss: 0.1120 - accuracy: 0.9745\n",
            "Epoch 22: val_accuracy did not improve from 0.95363\n",
            "250/250 [==============================] - 158s 632ms/step - loss: 0.1120 - accuracy: 0.9745 - val_loss: 0.3404 - val_accuracy: 0.9284\n",
            "Epoch 23/25\n",
            "250/250 [==============================] - ETA: 0s - loss: 0.1000 - accuracy: 0.9775\n",
            "Epoch 23: val_accuracy did not improve from 0.95363\n",
            "250/250 [==============================] - 168s 674ms/step - loss: 0.1000 - accuracy: 0.9775 - val_loss: 0.2875 - val_accuracy: 0.9506\n",
            "Epoch 24/25\n",
            "250/250 [==============================] - ETA: 0s - loss: 0.0838 - accuracy: 0.9796\n",
            "Epoch 24: val_accuracy did not improve from 0.95363\n",
            "250/250 [==============================] - 155s 619ms/step - loss: 0.0838 - accuracy: 0.9796 - val_loss: 0.4067 - val_accuracy: 0.9405\n",
            "Epoch 25/25\n",
            "250/250 [==============================] - ETA: 0s - loss: 0.0984 - accuracy: 0.9775\n",
            "Epoch 25: val_accuracy did not improve from 0.95363\n",
            "250/250 [==============================] - 163s 650ms/step - loss: 0.0984 - accuracy: 0.9775 - val_loss: 0.4518 - val_accuracy: 0.9435\n"
          ]
        }
      ],
      "source": [
        "ssd_history = ssd_model.fit(\n",
        "    train_generator,\n",
        "    steps_per_epoch=train_generator.samples // batch_size,\n",
        "    epochs=25,\n",
        "    validation_data=val_generator,\n",
        "    validation_steps=val_generator.samples // batch_size,\n",
        "    callbacks=[checkpoint_callback, csv_logger],  # Menambahkan csv_logger ke dalam callbacks\n",
        ")"
      ]
    },
    {
      "cell_type": "markdown",
      "source": [
        "# Learning Curve\n",
        "Menampilkan grafik yang menunjukkan perubahan akurasi dan loss pada training set dan validation set seiring dengan jumlah epoch yang dilakukan selama proses pelatihan model."
      ],
      "metadata": {
        "id": "wApPFWsYL5pc"
      }
    },
    {
      "cell_type": "code",
      "source": [
        "# Plot the chart for accuracy and loss on both training and validation\n",
        "acc = ssd_history.history['accuracy']\n",
        "val_acc = ssd_history.history['val_accuracy']\n",
        "loss = ssd_history.history['loss']\n",
        "val_loss = ssd_history.history['val_loss']\n",
        "\n",
        "epochs = range(len(acc))\n",
        "\n",
        "plt.plot(epochs, acc, 'r', label='Training accuracy')\n",
        "plt.plot(epochs, val_acc, 'b', label='Validation accuracy')\n",
        "plt.title('Training and validation accuracy')\n",
        "plt.legend()\n",
        "plt.figure()\n",
        "\n",
        "plt.plot(epochs, loss, 'r', label='Training Loss')\n",
        "plt.plot(epochs, val_loss, 'b', label='Validation Loss')\n",
        "plt.title('Training and validation loss')\n",
        "plt.legend()\n",
        "\n",
        "plt.show()"
      ],
      "metadata": {
        "id": "lW1l-NOaP7eR",
        "colab": {
          "base_uri": "https://localhost:8080/",
          "height": 887
        },
        "outputId": "e5a28dd8-75ca-47de-f8d8-82018ed66f66"
      },
      "execution_count": 12,
      "outputs": [
        {
          "output_type": "display_data",
          "data": {
            "text/plain": [
              "<Figure size 640x480 with 1 Axes>"
            ],
            "image/png": "[encoded data removed]"
          },
          "metadata": {}
        },
        {
          "output_type": "display_data",
          "data": {
            "text/plain": [
              "<Figure size 640x480 with 1 Axes>"
            ],
            "image/png": "[encoded data removed]"
          },
          "metadata": {}
        }
      ]
    },
    {
      "cell_type": "markdown",
      "source": [
        "# Evaluasi Model Menggunakan Data Uji\n",
        "Melakukan evaluasi model menggunakan data uji untuk mendapatkan informasi tentang kinerja model pada data uji, termasuk akurasi, presisi, recall, F1-score, loss, dan akurasi pada data uji"
      ],
      "metadata": {
        "id": "DsnZbLjkL_iq"
      }
    },
    {
      "cell_type": "code",
      "source": [
        "# Path ke direktori data uji\n",
        "test_dir = '/content/images/images/test'\n",
        "\n",
        "# Inisialisasi objek ImageDataGenerator untuk data uji\n",
        "test_datagen = ImageDataGenerator(rescale=1./255)\n",
        "\n",
        "# Membuat generator data uji\n",
        "test_generator = test_datagen.flow_from_directory(\n",
        "    test_dir,\n",
        "    target_size=(256, 256),\n",
        "    batch_size=32,\n",
        "    class_mode='categorical',\n",
        "    shuffle=False\n",
        ")\n",
        "\n",
        "# Menghitung metrik-metrik menggunakan metode evaluate dari model\n",
        "test_loss, test_accuracy = ssd_model.evaluate(test_generator, verbose=0)\n",
        "predictions = ssd_model.predict(test_generator)\n",
        "true_labels = test_generator.classes\n",
        "prediction_labels = np.argmax(predictions, axis=1)\n",
        "\n",
        "# Menghitung metrik-metrik\n",
        "accuracy = accuracy_score(true_labels, prediction_labels)\n",
        "precision = precision_score(true_labels, prediction_labels, average='weighted')\n",
        "recall = recall_score(true_labels, prediction_labels, average='weighted')\n",
        "f1 = f1_score(true_labels, prediction_labels, average='weighted')\n",
        "\n",
        "# Menampilkan metrik\n",
        "print(\"Accuracy:\", accuracy)\n",
        "print(\"Precision:\", precision)\n",
        "print(\"Recall:\", recall)\n",
        "print(\"F1 Score:\", f1)\n",
        "print(\"Test Loss:\", test_loss)\n",
        "print(\"Test Accuracy:\", test_accuracy)"
      ],
      "metadata": {
        "colab": {
          "base_uri": "https://localhost:8080/"
        },
        "id": "qVzyjhzXio_U",
        "outputId": "29e3d8c2-ac62-4784-f1c4-e560dd41dd01"
      },
      "execution_count": 13,
      "outputs": [
        {
          "output_type": "stream",
          "name": "stdout",
          "text": [
            "Found 1000 images belonging to 20 classes.\n",
            "32/32 [==============================] - 4s 114ms/step\n",
            "Accuracy: 0.935\n",
            "Precision: 0.9382561637059456\n",
            "Recall: 0.935\n",
            "F1 Score: 0.9348497069358569\n",
            "Test Loss: 0.48698174953460693\n",
            "Test Accuracy: 0.9350000023841858\n"
          ]
        }
      ]
    },
    {
      "cell_type": "markdown",
      "source": [
        "# Matriks Konfusi\n",
        "Mendapatkan visualisasi matriks konfusi yang memperlihatkan prediksi yang benar dan salah untuk setiap kelas."
      ],
      "metadata": {
        "id": "24NdYBqEBzWc"
      }
    },
    {
      "cell_type": "code",
      "source": [
        "#matriks konfusi\n",
        "cf_matrix = confusion_matrix(true_labels, prediction_labels)\n",
        "\n",
        "# Create the heatmap\n",
        "fig, ax = plt.subplots(figsize=(8, 6))\n",
        "sns.heatmap(cf_matrix, annot=True, fmt='g', cmap='Blues', ax=ax)\n",
        "\n",
        "# Set labels and title\n",
        "ax.set_title('Confusion Matrix with labels')\n",
        "ax.set_xlabel('Predicted Values')\n",
        "ax.set_ylabel('Actual Values')\n",
        "\n",
        "# Set tick labels\n",
        "label_types = sorted(list(set(true_labels)))  # List of unique label types sorted alphabetically\n",
        "ax.xaxis.set_ticklabels(label_types, rotation=45)\n",
        "ax.yaxis.set_ticklabels(label_types, rotation=45)\n",
        "\n",
        "# Display the visualization of the Confusion Matrix\n",
        "plt.show()"
      ],
      "metadata": {
        "id": "YbmZLST5I1LI",
        "colab": {
          "base_uri": "https://localhost:8080/",
          "height": 573
        },
        "outputId": "e6396994-98ac-4e64-9665-053d7a709b67"
      },
      "execution_count": 15,
      "outputs": [
        {
          "output_type": "display_data",
          "data": {
            "text/plain": [
              "<Figure size 800x600 with 2 Axes>"
            ],
            "image/png": "[encoded data removed]"
          },
          "metadata": {}
        }
      ]
    },
    {
      "cell_type": "markdown",
      "source": [
        "# Menyimpan Model \n",
        "Menyimpan model dalam format H5 (Hierarchical Data Format) dan TFLite (TensorFlow Lite). Format H5 digunakan untuk menyimpan model yang lengkap, termasuk arsitektur, bobot, dan konfigurasi model. Format TFLite adalah format yang dioptimalkan untuk menjalankan model pada perangkat dengan sumber daya terbatas seperti perangkat seluler, sistem embedded, atau IoT (Internet of Things)."
      ],
      "metadata": {
        "id": "igesFuh8C_E6"
      }
    },
    {
      "cell_type": "code",
      "source": [
        "# Save model H5\n",
        "ssd_model.save('/content/drive/MyDrive/models/model_ssd.h5')"
      ],
      "metadata": {
        "id": "oj8th40OyHSp"
      },
      "execution_count": 25,
      "outputs": []
    },
    {
      "cell_type": "code",
      "source": [
        "# Save model TF\n",
        "ssd_model.save('/content/drive/MyDrive/models/model_ssd')"
      ],
      "metadata": {
        "colab": {
          "base_uri": "https://localhost:8080/"
        },
        "id": "vv-av3mFC_Xy",
        "outputId": "5264cc45-662c-4bbb-bfa3-7991e333ffe7"
      },
      "execution_count": 26,
      "outputs": [
        {
          "output_type": "stream",
          "name": "stderr",
          "text": [
            "WARNING:absl:Found untraced functions such as _jit_compiled_convolution_op, _jit_compiled_convolution_op, _jit_compiled_convolution_op, _jit_compiled_convolution_op, _jit_compiled_convolution_op while saving (showing 5 of 55). These functions will not be directly callable after loading.\n"
          ]
        }
      ]
    },
    {
      "cell_type": "code",
      "source": [
        "import pathlib\n",
        "\n",
        "# TFLite\n",
        "converter = tf.lite.TFLiteConverter.from_saved_model('/content/drive/MyDrive/models/model_ssd')\n",
        "converter.optimization = [tf.lite.Optimize.OPTIMIZE_FOR_SIZE]\n",
        "tflite_model = converter.convert();\n",
        "\n",
        "tflite_model_file = pathlib.Path('/content/drive/MyDrive/models/model_ssd.tflite')\n",
        "tflite_model_file.write_bytes(tflite_model)"
      ],
      "metadata": {
        "colab": {
          "base_uri": "https://localhost:8080/"
        },
        "id": "f0L6l0MFDUC8",
        "outputId": "59399bb7-fe01-479b-a045-f7d5ddd2f35c"
      },
      "execution_count": 27,
      "outputs": [
        {
          "output_type": "execute_result",
          "data": {
            "text/plain": [
              "12576300"
            ]
          },
          "metadata": {},
          "execution_count": 27
        }
      ]
    }
  ],
  "metadata": {
    "colab": {
      "provenance": [],
      "gpuType": "T4"
    },
    "kernelspec": {
      "display_name": "Python 3",
      "name": "python3"
    },
    "language_info": {
      "name": "python"
    },
    "accelerator": "GPU"
  },
  "nbformat": 4,
  "nbformat_minor": 0
}